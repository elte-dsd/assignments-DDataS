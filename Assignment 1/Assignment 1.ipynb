{
 "cells": [
  {
   "cell_type": "code",
   "execution_count": 1,
   "metadata": {},
   "outputs": [],
   "source": [
    "# 1.- Import libraries\n",
    "\n",
    "import string\n",
    "import numpy as np\n",
    "import random"
   ]
  },
  {
   "cell_type": "code",
   "execution_count": 2,
   "metadata": {},
   "outputs": [],
   "source": [
    "# 2.- Set the parameters \n",
    "\n",
    "n_hash_fun = 20   # Nº of hash functions\n",
    "N = 26            # Nº of classes in the stream\n",
    "max_value = 20    # Max value for the output of the hash function, can go up to 26 to ensure unique values"
   ]
  },
  {
   "cell_type": "code",
   "execution_count": 3,
   "metadata": {},
   "outputs": [],
   "source": [
    "# 3.- Generate random stream of letters\n",
    "\n",
    "letters = string.ascii_uppercase\n",
    "stream = []\n",
    "\n",
    "for i in range(10000):\n",
    "    stream.append(random.choice(letters))"
   ]
  },
  {
   "cell_type": "code",
   "execution_count": 4,
   "metadata": {},
   "outputs": [],
   "source": [
    "# 4.- Generate hash functions\n",
    "\n",
    "hash_f = np.random.randint(0,max_value,(n_hash_fun,N)) # We can also ensure this hashes to be unique \n",
    "                                                       # in order to avoid collisions"
   ]
  },
  {
   "cell_type": "code",
   "execution_count": 5,
   "metadata": {},
   "outputs": [],
   "source": [
    "# 5.- Execute countings\n",
    "\n",
    "count = np.zeros((n_hash_fun,N))\n",
    "\n",
    "for i in stream:\n",
    "    hashes = hash_f[:,letters.find(i)]\n",
    "    for j in range(n_hash_fun):\n",
    "        count[j,hashes[j]] += 1    "
   ]
  },
  {
   "cell_type": "code",
   "execution_count": 6,
   "metadata": {},
   "outputs": [],
   "source": [
    "# 6.- Recount\n",
    "\n",
    "min_dict = {}\n",
    "for j in range(26):\n",
    "    min_dict.update({letters[j]: int(min([count[i,hash_f[:,j][i]] for i in range(n_hash_fun)]))})"
   ]
  },
  {
   "cell_type": "code",
   "execution_count": 8,
   "metadata": {},
   "outputs": [
    {
     "data": {
      "text/plain": [
       "{'A': 392,\n",
       " 'B': 383,\n",
       " 'C': 367,\n",
       " 'D': 416,\n",
       " 'E': 351,\n",
       " 'F': 343,\n",
       " 'G': 377,\n",
       " 'H': 401,\n",
       " 'I': 414,\n",
       " 'J': 383,\n",
       " 'K': 396,\n",
       " 'L': 390,\n",
       " 'M': 347,\n",
       " 'N': 411,\n",
       " 'O': 358,\n",
       " 'P': 408,\n",
       " 'Q': 395,\n",
       " 'R': 397,\n",
       " 'S': 355,\n",
       " 'T': 413,\n",
       " 'U': 401,\n",
       " 'V': 392,\n",
       " 'W': 377,\n",
       " 'X': 372,\n",
       " 'Y': 348,\n",
       " 'Z': 413}"
      ]
     },
     "execution_count": 8,
     "metadata": {},
     "output_type": "execute_result"
    }
   ],
   "source": [
    "# 7.- Result\n",
    "min_dict"
   ]
  },
  {
   "cell_type": "code",
   "execution_count": 10,
   "metadata": {},
   "outputs": [],
   "source": [
    "# 8.- Comparation with python-made function\n",
    "\n",
    "labels, counts = np.unique(stream, return_counts=True)\n",
    "result = [min_dict[labels[i]] == counts[i] for i in range(N)]\n",
    "result"
   ]
  }
 ],
 "metadata": {
  "kernelspec": {
   "display_name": "Python 3",
   "language": "python",
   "name": "python3"
  },
  "language_info": {
   "codemirror_mode": {
    "name": "ipython",
    "version": 3
   },
   "file_extension": ".py",
   "mimetype": "text/x-python",
   "name": "python",
   "nbconvert_exporter": "python",
   "pygments_lexer": "ipython3",
   "version": "3.7.2"
  }
 },
 "nbformat": 4,
 "nbformat_minor": 2
}
