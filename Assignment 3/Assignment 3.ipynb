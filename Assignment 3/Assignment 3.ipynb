{
 "cells": [
  {
   "cell_type": "code",
   "execution_count": 1,
   "metadata": {},
   "outputs": [],
   "source": [
    "# 1.- Libraries import\n",
    "\n",
    "import pandas as pd\n",
    "import numpy as np\n",
    "from skmultiflow.trees import HoeffdingTree\n",
    "from skmultiflow.evaluation import EvaluatePrequential\n",
    "import time\n",
    "from sklearn import metrics"
   ]
  },
  {
   "cell_type": "code",
   "execution_count": 2,
   "metadata": {},
   "outputs": [],
   "source": [
    "# 2.- Data reading, preprocessing and parameters setting\n",
    "\n",
    "data = pd.read_csv(\"cs-training.csv\") # Give me some credit data, drop na for easier use\n",
    "# data = pd.read_csv(\"heart.csv\", sep = \";\", decimal = \",\") # Give me some credit data, drop na for easier use\n",
    "data = data.dropna()\n",
    "\n",
    "L = 2                                 # Number of instances\n",
    "I = 500                              # Size of the data block\n",
    "D = 30                                # Number of dynamic classifiers\n",
    "eps = 0.25                            # Instance selection ratio"
   ]
  },
  {
   "cell_type": "code",
   "execution_count": 4,
   "metadata": {},
   "outputs": [
    {
     "data": {
      "text/plain": [
       "(120269, 12)"
      ]
     },
     "execution_count": 4,
     "metadata": {},
     "output_type": "execute_result"
    }
   ],
   "source": [
    "data.shape"
   ]
  },
  {
   "cell_type": "code",
   "execution_count": 5,
   "metadata": {},
   "outputs": [
    {
     "data": {
      "text/html": [
       "<div>\n",
       "<style scoped>\n",
       "    .dataframe tbody tr th:only-of-type {\n",
       "        vertical-align: middle;\n",
       "    }\n",
       "\n",
       "    .dataframe tbody tr th {\n",
       "        vertical-align: top;\n",
       "    }\n",
       "\n",
       "    .dataframe thead th {\n",
       "        text-align: right;\n",
       "    }\n",
       "</style>\n",
       "<table border=\"1\" class=\"dataframe\">\n",
       "  <thead>\n",
       "    <tr style=\"text-align: right;\">\n",
       "      <th></th>\n",
       "      <th>Unnamed: 0</th>\n",
       "      <th>SeriousDlqin2yrs</th>\n",
       "      <th>RevolvingUtilizationOfUnsecuredLines</th>\n",
       "      <th>age</th>\n",
       "      <th>NumberOfTime30-59DaysPastDueNotWorse</th>\n",
       "      <th>DebtRatio</th>\n",
       "      <th>MonthlyIncome</th>\n",
       "      <th>NumberOfOpenCreditLinesAndLoans</th>\n",
       "      <th>NumberOfTimes90DaysLate</th>\n",
       "      <th>NumberRealEstateLoansOrLines</th>\n",
       "      <th>NumberOfTime60-89DaysPastDueNotWorse</th>\n",
       "      <th>NumberOfDependents</th>\n",
       "    </tr>\n",
       "  </thead>\n",
       "  <tbody>\n",
       "    <tr>\n",
       "      <th>0</th>\n",
       "      <td>1</td>\n",
       "      <td>1</td>\n",
       "      <td>0.766127</td>\n",
       "      <td>45</td>\n",
       "      <td>2</td>\n",
       "      <td>0.802982</td>\n",
       "      <td>9120.0</td>\n",
       "      <td>13</td>\n",
       "      <td>0</td>\n",
       "      <td>6</td>\n",
       "      <td>0</td>\n",
       "      <td>2.0</td>\n",
       "    </tr>\n",
       "    <tr>\n",
       "      <th>1</th>\n",
       "      <td>2</td>\n",
       "      <td>0</td>\n",
       "      <td>0.957151</td>\n",
       "      <td>40</td>\n",
       "      <td>0</td>\n",
       "      <td>0.121876</td>\n",
       "      <td>2600.0</td>\n",
       "      <td>4</td>\n",
       "      <td>0</td>\n",
       "      <td>0</td>\n",
       "      <td>0</td>\n",
       "      <td>1.0</td>\n",
       "    </tr>\n",
       "    <tr>\n",
       "      <th>2</th>\n",
       "      <td>3</td>\n",
       "      <td>0</td>\n",
       "      <td>0.658180</td>\n",
       "      <td>38</td>\n",
       "      <td>1</td>\n",
       "      <td>0.085113</td>\n",
       "      <td>3042.0</td>\n",
       "      <td>2</td>\n",
       "      <td>1</td>\n",
       "      <td>0</td>\n",
       "      <td>0</td>\n",
       "      <td>0.0</td>\n",
       "    </tr>\n",
       "    <tr>\n",
       "      <th>3</th>\n",
       "      <td>4</td>\n",
       "      <td>0</td>\n",
       "      <td>0.233810</td>\n",
       "      <td>30</td>\n",
       "      <td>0</td>\n",
       "      <td>0.036050</td>\n",
       "      <td>3300.0</td>\n",
       "      <td>5</td>\n",
       "      <td>0</td>\n",
       "      <td>0</td>\n",
       "      <td>0</td>\n",
       "      <td>0.0</td>\n",
       "    </tr>\n",
       "    <tr>\n",
       "      <th>4</th>\n",
       "      <td>5</td>\n",
       "      <td>0</td>\n",
       "      <td>0.907239</td>\n",
       "      <td>49</td>\n",
       "      <td>1</td>\n",
       "      <td>0.024926</td>\n",
       "      <td>63588.0</td>\n",
       "      <td>7</td>\n",
       "      <td>0</td>\n",
       "      <td>1</td>\n",
       "      <td>0</td>\n",
       "      <td>0.0</td>\n",
       "    </tr>\n",
       "  </tbody>\n",
       "</table>\n",
       "</div>"
      ],
      "text/plain": [
       "   Unnamed: 0  SeriousDlqin2yrs  RevolvingUtilizationOfUnsecuredLines  age  \\\n",
       "0           1                 1                              0.766127   45   \n",
       "1           2                 0                              0.957151   40   \n",
       "2           3                 0                              0.658180   38   \n",
       "3           4                 0                              0.233810   30   \n",
       "4           5                 0                              0.907239   49   \n",
       "\n",
       "   NumberOfTime30-59DaysPastDueNotWorse  DebtRatio  MonthlyIncome  \\\n",
       "0                                     2   0.802982         9120.0   \n",
       "1                                     0   0.121876         2600.0   \n",
       "2                                     1   0.085113         3042.0   \n",
       "3                                     0   0.036050         3300.0   \n",
       "4                                     1   0.024926        63588.0   \n",
       "\n",
       "   NumberOfOpenCreditLinesAndLoans  NumberOfTimes90DaysLate  \\\n",
       "0                               13                        0   \n",
       "1                                4                        0   \n",
       "2                                2                        1   \n",
       "3                                5                        0   \n",
       "4                                7                        0   \n",
       "\n",
       "   NumberRealEstateLoansOrLines  NumberOfTime60-89DaysPastDueNotWorse  \\\n",
       "0                             6                                     0   \n",
       "1                             0                                     0   \n",
       "2                             0                                     0   \n",
       "3                             0                                     0   \n",
       "4                             1                                     0   \n",
       "\n",
       "   NumberOfDependents  \n",
       "0                 2.0  \n",
       "1                 1.0  \n",
       "2                 0.0  \n",
       "3                 0.0  \n",
       "4                 0.0  "
      ]
     },
     "execution_count": 5,
     "metadata": {},
     "output_type": "execute_result"
    }
   ],
   "source": [
    "data.head()"
   ]
  },
  {
   "cell_type": "markdown",
   "metadata": {},
   "source": [
    "We define 5 functions, most of them as detailed in the paper https://ieeexplore.ieee.org/abstract/document/8706959:\n",
    "\n",
    " - **Ensemble**: Main function, as detailed in the paper\n",
    " - **CreateNewBaseClassfier**: As detailed in the paper\n",
    " - **ReinformentAdjustment**: As detailed in the paper\n",
    " - **TrainOnInstance**: As detailed in the paper\n",
    " - **predict**: Used for prediction of new values"
   ]
  },
  {
   "cell_type": "code",
   "execution_count": 12,
   "metadata": {},
   "outputs": [],
   "source": [
    "def ensemble(S,L,I,D,eps):\n",
    "    \n",
    "    # 1.- INITIALIZATION\n",
    "    \n",
    "    labels = np.asarray(S.iloc[:,1])         # Labels    \n",
    "    S = np.asarray(S.iloc[:,2:S.shape[1]])   # Data\n",
    "\n",
    "#     S = np.asarray(S.iloc[:,0:data.shape[1]-1])\n",
    "#     labels = np.asarray(data.iloc[:,-1]) \n",
    "    B = []                                      # Circular array\n",
    "    U = [[] for i in range(0,L)]                # Resampling buffer\n",
    "    DCIR = [1/L for i in range(0,L)]            # Class imbalance ratio\n",
    "    C = []                                      # Classifiers vector\n",
    "    H = [[0 for i in range(0,D)] for i in range(0,L)]  # Nº of instances of different classes\n",
    "    ws = 0.5                                    # Static weight\n",
    "    wd = [1/D for i in range(0,D-1)]            # Dynamic weights\n",
    "\n",
    "    p = 0                                       # Processed instances counter\n",
    "    i = 0                                       # Position of circular array\n",
    "    k = 0                                       # Indicator of dynamic classifiers\n",
    "    kc = 0                                      # Circular indicator of dynamic classifiers\n",
    "    \n",
    "    # 2.- PROCESS\n",
    "    \n",
    "    for j in range(0, len(S)):\n",
    "        \n",
    "        xnew = S[j]\n",
    "        p = p + 1\n",
    "        if (p%10000 == 0):\n",
    "            print(\"Instances through stream: \", p)\n",
    "        \n",
    "        # 2.1.- FIRST INSTANCES\n",
    "        if (p < I):\n",
    "            B.append(xnew)\n",
    "        elif (p == I):\n",
    "            B.append(xnew)\n",
    "            [Cnew, H, U, ws, wd] = CreateNewBaseClassfier(eps, B, U, I, L, D, C, H, wd, ws, k, kc, DCIR, labels)\n",
    "            C.append(Cnew)\n",
    "            k = 1\n",
    "            kc = 1\n",
    "        \n",
    "        # 2.2.- MIDDLE INSTANCES\n",
    "        else:\n",
    "            i = (p-1)%I\n",
    "#             print(p-I-1)\n",
    "#             print(DCIR)\n",
    "#             print(labels[p-I-1])\n",
    "            [B, C, ws, wd] = TrainOnInstance(xnew, i, L, D, B, C, wd, ws, DCIR[labels[p-I-1]], labels[p-I-1])\n",
    "            i = (i + 1)%I\n",
    "            if (i == 0):\n",
    "                k = k+1\n",
    "                kc = k%D\n",
    "                [Ck, H, U, ws, wd] = CreateNewBaseClassfier(eps, B, U, I, L, D, C, H, wd, ws, k, kc, DCIR, labels)\n",
    "                if k > D:\n",
    "                    sol = predict(S[j-I:j,:], C, ws, wd)\n",
    "#                     print(labels[j-I:j])\n",
    "#                     print(sol)\n",
    "#                     print(\"Different from 0:\",np.sum(sol!=0))\n",
    "#                     print(\"Accuracy in \", j, \": \", np.sum(np.equal(sol, labels[j-I:j]))/I)\n",
    "                    ws = 1/2\n",
    "                    wd[0:D-2] = list(map(lambda x: x * (1-1/D), wd[1:D-1]))\n",
    "                    wd[-1] = 1/D\n",
    "                else:\n",
    "                    C.append(Ck)\n",
    "                    ws = 1/2\n",
    "                    wd[0:k-2] = list(map(lambda x: x * (1-1/D), wd[0:k-2]))\n",
    "                    wd[0] = 1/D\n",
    "\n",
    "                if k < D:\n",
    "                    l = k\n",
    "                else:\n",
    "                    l = D\n",
    "                temp = [np.asarray(H[i][1:l+1]) * np.asarray(wd[0:l]) for i in range(0,L)]\n",
    "                for i in range(0,L):\n",
    "                    DCIR[i] = np.sum(temp[i])/np.sum(temp)\n",
    "                    \n",
    "    # 2.3.- FINAL INSTANCES\n",
    "    for j in range(0,I-1):\n",
    "        xnew = B[j]\n",
    "        [B, C, ws, wd] = TrainOnInstance(xnew, i, L, D, B, C, wd, ws, DCIR[labels[j-I]], labels[len(labels)-I+j])\n",
    "    \n",
    "    return [C,ws,wd]"
   ]
  },
  {
   "cell_type": "code",
   "execution_count": 13,
   "metadata": {},
   "outputs": [],
   "source": [
    "def CreateNewBaseClassfier(eps, B, U, I, L, D, C, H, wd, ws, k, kc, DCIR, labels):\n",
    "    \n",
    "    # 1.- Select top eps*I instances\n",
    "    Rn = B[0:int(I*eps)]\n",
    "    Rlabels = labels[0:int(I*eps)]\n",
    "    \n",
    "    # 2.- In case is not the first classifier, perform weight adjustment\n",
    "    if k != 0:\n",
    "        for i in range(0, len(Rn)):\n",
    "            [ws,wd] = ReinformentAdjustment(np.asarray([Rn[i]]), L, D, C, wd, ws, DCIR[Rlabels[i]],Rlabels[i])\n",
    "    \n",
    "    # 3.- Calculate instance numbers\n",
    "    for i in range(0,L):\n",
    "        H[i][kc] = len(np.where(Rlabels[0:int(I*eps)]==i)[0])\n",
    "    \n",
    "    # 4.- Create new classifier\n",
    "    Cnew = HoeffdingTree()\n",
    "    \n",
    "    # 5.- In case is not the first classifier, train in previous instances for balance\n",
    "    if k != 0:\n",
    "        if (H[0][kc] < int(I*eps/L)) and (len(U[0])>0):\n",
    "            U0 = np.array(U[0])\n",
    "            if len(U[0]) >= (int(I*eps/L) - H[0][kc]):\n",
    "                Cnew.fit(U0[-(int(I*eps/L) - H[1][kc]):], np.asarray([0 for i in range(0, (int(I*eps/L) - H[0][kc]))]))\n",
    "            else:\n",
    "                Cnew.fit(U0, np.asarray([0 for i in range(0, len(U[0]))]))\n",
    "        elif (H[1][kc] < int(I*eps/L)) and (len(U[1])>0):\n",
    "            U1 = np.array(U[1])\n",
    "            \n",
    "            if len(U[1]) >= (int(I*eps/L) - H[1][kc]):\n",
    "                Cnew.fit(U1[-(int(I*eps/L) - H[1][kc]):], np.asarray([1 for i in range(0, (int(I*eps/L) - H[1][kc]))]))\n",
    "            else:\n",
    "                Cnew.fit(U1, np.asarray([1 for i in range(0, len(U[1]))]))\n",
    "        Cnew.partial_fit(Rn,Rlabels)\n",
    "            \n",
    "    else:\n",
    "        # 6.- Train the new classifier\n",
    "#         print(Rn)\n",
    "        Cnew.fit(np.array(Rn), np.array(Rlabels))\n",
    "    \n",
    "    # 7.- Adapt the resampling buffer\n",
    "    for i in range(0,len(Rn)):\n",
    "        if Rlabels[i] == 0:\n",
    "            U[0].append(Rn[i])\n",
    "            if len(U[0])> int(I*eps/L):\n",
    "                U[0].pop()\n",
    "        else:            \n",
    "            U[1].append(Rn[i])\n",
    "            if len(U[1])> int(I*eps/L):\n",
    "                U[1].pop()\n",
    "    \n",
    "    return [Cnew, H, U, ws, wd]"
   ]
  },
  {
   "cell_type": "code",
   "execution_count": 14,
   "metadata": {},
   "outputs": [],
   "source": [
    "def  ReinformentAdjustment(x, L, D, C, wd, ws, DCIR, label):\n",
    "    if (DCIR < 1/L):\n",
    "        for d in range(1,len(C)-1):\n",
    "            if (C[d].predict(x)[0] == label):\n",
    "#                 print(\"HEY!!\")\n",
    "#                 print(label)\n",
    "                wd[d] = wd[d]*(1+1/D)\n",
    "#                 print(wd)\n",
    "            else:\n",
    "                wd[d] = wd[d]*(1-1/D)\n",
    "        if (C[0].predict(x)[0] == label):\n",
    "#             print(\"HEY!!\")\n",
    "            ws = ws*(1+1/D)\n",
    "        else:\n",
    "            ws = ws*(1-1/D)   \n",
    "    return [ws,wd]"
   ]
  },
  {
   "cell_type": "code",
   "execution_count": 15,
   "metadata": {},
   "outputs": [],
   "source": [
    "def TrainOnInstance(xnew, i, L, D, B, C, wd, ws, DCIR, label):\n",
    "    x = np.asarray([B[i]])\n",
    "    [ws, wd] = ReinformentAdjustment(x, L, D, C, wd, ws, DCIR, label)\n",
    "    for j in range(0,len(C)):\n",
    "        if label == 1:\n",
    "            C[j].partial_fit(x, [label])\n",
    "        elif (label == 0) and (np.random.rand(1)<0.15):\n",
    "            C[j].partial_fit(x, [label])\n",
    "    B[i] = xnew\n",
    "    return [B, C, ws, wd]"
   ]
  },
  {
   "cell_type": "code",
   "execution_count": 16,
   "metadata": {},
   "outputs": [],
   "source": [
    "def predict(data, C, ws, wd):\n",
    "    pred = C[0].predict(np.asarray(data))*ws\n",
    "#     print(wd)\n",
    "    for i in range(1, len(C)-1):\n",
    "#         print(\"Classifier: \", i)\n",
    "        pred = pred + C[i].predict(np.asarray(data))*wd[i-1]\n",
    "    for i in range(0, len(pred)):\n",
    "        if pred[i] >= 0.5:\n",
    "            pred[i] = 1\n",
    "        else:\n",
    "            pred[i] = 0\n",
    "    return pred"
   ]
  },
  {
   "cell_type": "code",
   "execution_count": 17,
   "metadata": {},
   "outputs": [
    {
     "name": "stdout",
     "output_type": "stream",
     "text": [
      "Instances through stream:  10000\n",
      "Instances through stream:  20000\n",
      "Instances through stream:  30000\n",
      "Instances through stream:  40000\n",
      "Instances through stream:  50000\n",
      "Instances through stream:  60000\n",
      "Instances through stream:  70000\n",
      "Instances through stream:  80000\n",
      "Instances through stream:  90000\n",
      "Instances through stream:  100000\n",
      "Instances through stream:  110000\n",
      "Instances through stream:  120000\n",
      "Total time:  258.77772665023804\n"
     ]
    }
   ],
   "source": [
    "# 4.- Test and metrics\n",
    "start_time = time.time()\n",
    "ret = ensemble(data,L,I,D,eps)\n",
    "end_time = time.time()\n",
    "print(\"Total time: \", end_time - start_time)"
   ]
  },
  {
   "cell_type": "code",
   "execution_count": 18,
   "metadata": {},
   "outputs": [],
   "source": [
    "sol = predict(np.asarray(data.iloc[:,2:]), ret[0], ret[1], ret[2])"
   ]
  },
  {
   "cell_type": "code",
   "execution_count": 19,
   "metadata": {},
   "outputs": [
    {
     "data": {
      "text/plain": [
       "array([1., 0., 1., ..., 0., 0., 0.])"
      ]
     },
     "execution_count": 19,
     "metadata": {},
     "output_type": "execute_result"
    }
   ],
   "source": [
    "sol"
   ]
  },
  {
   "cell_type": "code",
   "execution_count": 21,
   "metadata": {},
   "outputs": [
    {
     "data": {
      "text/plain": [
       "0.885016088933973"
      ]
     },
     "execution_count": 21,
     "metadata": {},
     "output_type": "execute_result"
    }
   ],
   "source": [
    "np.sum(np.equal(sol, np.asarray(data.iloc[:,1])))/len(data.iloc[:,2:])"
   ]
  },
  {
   "cell_type": "code",
   "execution_count": 27,
   "metadata": {},
   "outputs": [],
   "source": [
    "fpr, tpr, thresholds = metrics.roc_curve(np.asarray(data.iloc[:,1]), sol)"
   ]
  },
  {
   "cell_type": "code",
   "execution_count": 28,
   "metadata": {},
   "outputs": [
    {
     "data": {
      "text/plain": [
       "0.7290561292098146"
      ]
     },
     "execution_count": 28,
     "metadata": {},
     "output_type": "execute_result"
    }
   ],
   "source": [
    "metrics.auc(fpr, tpr)"
   ]
  },
  {
   "cell_type": "code",
   "execution_count": null,
   "metadata": {},
   "outputs": [],
   "source": []
  },
  {
   "cell_type": "code",
   "execution_count": null,
   "metadata": {},
   "outputs": [],
   "source": []
  }
 ],
 "metadata": {
  "kernelspec": {
   "display_name": "Python 3",
   "language": "python",
   "name": "python3"
  },
  "language_info": {
   "codemirror_mode": {
    "name": "ipython",
    "version": 3
   },
   "file_extension": ".py",
   "mimetype": "text/x-python",
   "name": "python",
   "nbconvert_exporter": "python",
   "pygments_lexer": "ipython3",
   "version": "3.7.2"
  }
 },
 "nbformat": 4,
 "nbformat_minor": 2
}
